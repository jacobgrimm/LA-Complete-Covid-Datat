{
 "cells": [
  {
   "cell_type": "code",
   "execution_count": null,
   "metadata": {},
   "outputs": [],
   "source": [
    "import pandas as pd\n",
    "from wordcloud import WordCloud, STOPWORDS\n",
    "import matplotlib.pyplot as plt\n",
    "import seaborn as sns\n",
    "from nltk.tokenize import word_tokenize\n",
    "import spacy\n",
    "from ast import literal_eval\n",
    "import folium\n",
    "import re\n",
    "\n",
    "\n",
    "df1 = pd.read_csv('April 16 - June 12, 2021 T42 Screening Form Submissions.csv')\n",
    "df2 = pd.read_csv('June 15 - August 11, 2021 T42 Screening Form Submissions.csv')\n",
    "df3 = pd.read_csv(\"August 2021 T42 Screening.csv\")\n",
    "\n",
    "df = pd.concat([df1, df2, df3], axis=0)\n",
    "df"
   ]
  }
 ],
 "metadata": {
  "language_info": {
   "name": "python"
  }
 },
 "nbformat": 4,
 "nbformat_minor": 2
}
