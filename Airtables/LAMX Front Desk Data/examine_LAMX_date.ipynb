{
 "cells": [
  {
   "cell_type": "code",
   "execution_count": 1,
   "metadata": {},
   "outputs": [
    {
     "data": {
      "text/html": [
       "<div>\n",
       "<style scoped>\n",
       "    .dataframe tbody tr th:only-of-type {\n",
       "        vertical-align: middle;\n",
       "    }\n",
       "\n",
       "    .dataframe tbody tr th {\n",
       "        vertical-align: top;\n",
       "    }\n",
       "\n",
       "    .dataframe thead th {\n",
       "        text-align: right;\n",
       "    }\n",
       "</style>\n",
       "<table border=\"1\" class=\"dataframe\">\n",
       "  <thead>\n",
       "    <tr style=\"text-align: right;\">\n",
       "      <th></th>\n",
       "      <th>Date</th>\n",
       "      <th>Name</th>\n",
       "      <th>Location</th>\n",
       "      <th>Total Family Members</th>\n",
       "      <th>Date of Birth</th>\n",
       "      <th>Country of Origin</th>\n",
       "      <th>MPP</th>\n",
       "      <th>Health Problem</th>\n",
       "      <th>Explain Health Problem</th>\n",
       "      <th>Victim of Crime/Violence in Mexico</th>\n",
       "      <th>Explain Crime/Violence</th>\n",
       "      <th>LGBTQ+</th>\n",
       "      <th>Notes</th>\n",
       "      <th>Victim of Crime/Violence</th>\n",
       "    </tr>\n",
       "  </thead>\n",
       "  <tbody>\n",
       "    <tr>\n",
       "      <th>0</th>\n",
       "      <td>3/15/2022</td>\n",
       "      <td>Ilson Deribau</td>\n",
       "      <td>Ciudad Juarez</td>\n",
       "      <td>3.0</td>\n",
       "      <td>5/26/1985</td>\n",
       "      <td>Haiti</td>\n",
       "      <td>No</td>\n",
       "      <td>Si / Yes</td>\n",
       "      <td>Wife is pregnant</td>\n",
       "      <td>No / No</td>\n",
       "      <td>NaN</td>\n",
       "      <td>No</td>\n",
       "      <td>Traveling with pregnant wife and son (5months)</td>\n",
       "      <td>No / No</td>\n",
       "    </tr>\n",
       "    <tr>\n",
       "      <th>1</th>\n",
       "      <td>3/15/2022</td>\n",
       "      <td>Rolando Flores Gonzalez</td>\n",
       "      <td>Ciudad Juarez</td>\n",
       "      <td>1.0</td>\n",
       "      <td>11/29/1967</td>\n",
       "      <td>Honduras</td>\n",
       "      <td>No</td>\n",
       "      <td>Si / Yes</td>\n",
       "      <td>Problemas con la columna</td>\n",
       "      <td>Si / Yes</td>\n",
       "      <td>Le cortaron un dedo</td>\n",
       "      <td>No</td>\n",
       "      <td>NaN</td>\n",
       "      <td>Si / Yes</td>\n",
       "    </tr>\n",
       "    <tr>\n",
       "      <th>2</th>\n",
       "      <td>3/15/2022</td>\n",
       "      <td>Miguerrose Camille</td>\n",
       "      <td>Ciudad Juarez</td>\n",
       "      <td>3.0</td>\n",
       "      <td>6/27/1997</td>\n",
       "      <td>Haiti</td>\n",
       "      <td>No</td>\n",
       "      <td>Si / Yes</td>\n",
       "      <td>Marido tiene presion alta y diabetes.</td>\n",
       "      <td>Si / Yes</td>\n",
       "      <td>Amenazas de golpes</td>\n",
       "      <td>No</td>\n",
       "      <td>Traveling with husband and son (2yrs)</td>\n",
       "      <td>Si / Yes</td>\n",
       "    </tr>\n",
       "    <tr>\n",
       "      <th>3</th>\n",
       "      <td>3/15/2022</td>\n",
       "      <td>Bryan Steven Suniga</td>\n",
       "      <td>Ciudad Juarez</td>\n",
       "      <td>1.0</td>\n",
       "      <td>1/26/2004</td>\n",
       "      <td>Nicaragua</td>\n",
       "      <td>Si</td>\n",
       "      <td>Si / Yes</td>\n",
       "      <td>Severe headaches.</td>\n",
       "      <td>No / No</td>\n",
       "      <td>NaN</td>\n",
       "      <td>No</td>\n",
       "      <td>MPP - Tiene fecha de corte en El Paso, Tx. el ...</td>\n",
       "      <td>No / No</td>\n",
       "    </tr>\n",
       "    <tr>\n",
       "      <th>4</th>\n",
       "      <td>3/15/2022</td>\n",
       "      <td>Daphka Dlutus</td>\n",
       "      <td>Ciudad Juarez</td>\n",
       "      <td>2.0</td>\n",
       "      <td>12/29/1999</td>\n",
       "      <td>Haiti</td>\n",
       "      <td>No</td>\n",
       "      <td>Si / Yes</td>\n",
       "      <td>Problemas con la columna por un accidente. Tam...</td>\n",
       "      <td>No / No</td>\n",
       "      <td>NaN</td>\n",
       "      <td>No</td>\n",
       "      <td>Traveling with fiance. She is pregnant.</td>\n",
       "      <td>No / No</td>\n",
       "    </tr>\n",
       "    <tr>\n",
       "      <th>...</th>\n",
       "      <td>...</td>\n",
       "      <td>...</td>\n",
       "      <td>...</td>\n",
       "      <td>...</td>\n",
       "      <td>...</td>\n",
       "      <td>...</td>\n",
       "      <td>...</td>\n",
       "      <td>...</td>\n",
       "      <td>...</td>\n",
       "      <td>...</td>\n",
       "      <td>...</td>\n",
       "      <td>...</td>\n",
       "      <td>...</td>\n",
       "      <td>...</td>\n",
       "    </tr>\n",
       "    <tr>\n",
       "      <th>7868</th>\n",
       "      <td>8/5/2022</td>\n",
       "      <td>Soraida Jimenez Ponciano</td>\n",
       "      <td>Ciudad Juarez</td>\n",
       "      <td>5.0</td>\n",
       "      <td>10/11/1994</td>\n",
       "      <td>Mexico</td>\n",
       "      <td>No</td>\n",
       "      <td>Si / Yes</td>\n",
       "      <td>Su marido padece de problemas para caminar bie...</td>\n",
       "      <td>Si / Yes</td>\n",
       "      <td>En Ometepec, Guerrero los del crimen organizad...</td>\n",
       "      <td>No</td>\n",
       "      <td>Viaja con su esposo y sus 3 hijos menores de e...</td>\n",
       "      <td>Si / Yes</td>\n",
       "    </tr>\n",
       "    <tr>\n",
       "      <th>7869</th>\n",
       "      <td>8/5/2022</td>\n",
       "      <td>Ada Linda Velasquez Benitez</td>\n",
       "      <td>Ciudad Juarez</td>\n",
       "      <td>2.0</td>\n",
       "      <td>11/2/1997</td>\n",
       "      <td>Honduras</td>\n",
       "      <td>No</td>\n",
       "      <td>No / No</td>\n",
       "      <td>NaN</td>\n",
       "      <td>Si / Yes</td>\n",
       "      <td>Aqui llegando a la ciudad, el coyote la vendio...</td>\n",
       "      <td>No</td>\n",
       "      <td>Viaja con su hija menor de 4 años de edad. Huy...</td>\n",
       "      <td>Si / Yes</td>\n",
       "    </tr>\n",
       "    <tr>\n",
       "      <th>7870</th>\n",
       "      <td>8/5/2022</td>\n",
       "      <td>Susana Alvarado Rodriguez</td>\n",
       "      <td>Ciudad Juarez</td>\n",
       "      <td>3.0</td>\n",
       "      <td>5/9/1993</td>\n",
       "      <td>Mexico</td>\n",
       "      <td>No</td>\n",
       "      <td>No / No</td>\n",
       "      <td>NaN</td>\n",
       "      <td>Si / Yes</td>\n",
       "      <td>En Cd. Hidalgo, Michoacan sufrio de violencia,...</td>\n",
       "      <td>No</td>\n",
       "      <td>Viaja con sus 2 hijos menores de edad de 13 y ...</td>\n",
       "      <td>Si / Yes</td>\n",
       "    </tr>\n",
       "    <tr>\n",
       "      <th>7871</th>\n",
       "      <td>8/5/2022</td>\n",
       "      <td>Phony Vrunache</td>\n",
       "      <td>Ciudad Juarez</td>\n",
       "      <td>3.0</td>\n",
       "      <td>9/22/1976</td>\n",
       "      <td>Haiti</td>\n",
       "      <td>No</td>\n",
       "      <td>Si / Yes</td>\n",
       "      <td>El padece de dolor de estomago. Uno de los sob...</td>\n",
       "      <td>Si / Yes</td>\n",
       "      <td>Llegando a esta ciudad fueron victimas de asal...</td>\n",
       "      <td>No</td>\n",
       "      <td>Viaja con 2 sobrinos varones adultos. Tienen e...</td>\n",
       "      <td>Si / Yes</td>\n",
       "    </tr>\n",
       "    <tr>\n",
       "      <th>7872</th>\n",
       "      <td>8/5/2022</td>\n",
       "      <td>Ona Rabel</td>\n",
       "      <td>Ciudad Juarez</td>\n",
       "      <td>3.0</td>\n",
       "      <td>4/4/1982</td>\n",
       "      <td>Haiti</td>\n",
       "      <td>No</td>\n",
       "      <td>Si / Yes</td>\n",
       "      <td>Ella esta embarazada de 3 meses.</td>\n",
       "      <td>No / No</td>\n",
       "      <td>NaN</td>\n",
       "      <td>No</td>\n",
       "      <td>Viaja con su esposo y su hija menor de 2 años....</td>\n",
       "      <td>No / No</td>\n",
       "    </tr>\n",
       "  </tbody>\n",
       "</table>\n",
       "<p>7873 rows × 14 columns</p>\n",
       "</div>"
      ],
      "text/plain": [
       "           Date                         Name        Location  \\\n",
       "0     3/15/2022                Ilson Deribau  Ciudad Juarez    \n",
       "1     3/15/2022      Rolando Flores Gonzalez  Ciudad Juarez    \n",
       "2     3/15/2022           Miguerrose Camille  Ciudad Juarez    \n",
       "3     3/15/2022          Bryan Steven Suniga  Ciudad Juarez    \n",
       "4     3/15/2022                Daphka Dlutus  Ciudad Juarez    \n",
       "...         ...                          ...             ...   \n",
       "7868   8/5/2022     Soraida Jimenez Ponciano  Ciudad Juarez    \n",
       "7869   8/5/2022  Ada Linda Velasquez Benitez  Ciudad Juarez    \n",
       "7870   8/5/2022    Susana Alvarado Rodriguez  Ciudad Juarez    \n",
       "7871   8/5/2022               Phony Vrunache  Ciudad Juarez    \n",
       "7872   8/5/2022                    Ona Rabel  Ciudad Juarez    \n",
       "\n",
       "      Total Family Members Date of Birth Country of Origin MPP Health Problem  \\\n",
       "0                      3.0     5/26/1985             Haiti  No       Si / Yes   \n",
       "1                      1.0    11/29/1967          Honduras  No       Si / Yes   \n",
       "2                      3.0     6/27/1997             Haiti  No       Si / Yes   \n",
       "3                      1.0     1/26/2004        Nicaragua   Si       Si / Yes   \n",
       "4                      2.0    12/29/1999             Haiti  No       Si / Yes   \n",
       "...                    ...           ...               ...  ..            ...   \n",
       "7868                   5.0    10/11/1994            Mexico  No       Si / Yes   \n",
       "7869                   2.0     11/2/1997          Honduras  No        No / No   \n",
       "7870                   3.0      5/9/1993            Mexico  No        No / No   \n",
       "7871                   3.0     9/22/1976             Haiti  No       Si / Yes   \n",
       "7872                   3.0      4/4/1982             Haiti  No       Si / Yes   \n",
       "\n",
       "                                 Explain Health Problem  \\\n",
       "0                                      Wife is pregnant   \n",
       "1                              Problemas con la columna   \n",
       "2                Marido tiene presion alta y diabetes.    \n",
       "3                                    Severe headaches.    \n",
       "4     Problemas con la columna por un accidente. Tam...   \n",
       "...                                                 ...   \n",
       "7868  Su marido padece de problemas para caminar bie...   \n",
       "7869                                                NaN   \n",
       "7870                                                NaN   \n",
       "7871  El padece de dolor de estomago. Uno de los sob...   \n",
       "7872                   Ella esta embarazada de 3 meses.   \n",
       "\n",
       "     Victim of Crime/Violence in Mexico  \\\n",
       "0                               No / No   \n",
       "1                              Si / Yes   \n",
       "2                              Si / Yes   \n",
       "3                               No / No   \n",
       "4                               No / No   \n",
       "...                                 ...   \n",
       "7868                           Si / Yes   \n",
       "7869                           Si / Yes   \n",
       "7870                           Si / Yes   \n",
       "7871                           Si / Yes   \n",
       "7872                            No / No   \n",
       "\n",
       "                                 Explain Crime/Violence LGBTQ+  \\\n",
       "0                                                   NaN     No   \n",
       "1                                   Le cortaron un dedo     No   \n",
       "2                                    Amenazas de golpes     No   \n",
       "3                                                   NaN     No   \n",
       "4                                                   NaN     No   \n",
       "...                                                 ...    ...   \n",
       "7868  En Ometepec, Guerrero los del crimen organizad...     No   \n",
       "7869  Aqui llegando a la ciudad, el coyote la vendio...     No   \n",
       "7870  En Cd. Hidalgo, Michoacan sufrio de violencia,...     No   \n",
       "7871  Llegando a esta ciudad fueron victimas de asal...     No   \n",
       "7872                                                NaN     No   \n",
       "\n",
       "                                                  Notes  \\\n",
       "0        Traveling with pregnant wife and son (5months)   \n",
       "1                                                   NaN   \n",
       "2                 Traveling with husband and son (2yrs)   \n",
       "3     MPP - Tiene fecha de corte en El Paso, Tx. el ...   \n",
       "4               Traveling with fiance. She is pregnant.   \n",
       "...                                                 ...   \n",
       "7868  Viaja con su esposo y sus 3 hijos menores de e...   \n",
       "7869  Viaja con su hija menor de 4 años de edad. Huy...   \n",
       "7870  Viaja con sus 2 hijos menores de edad de 13 y ...   \n",
       "7871  Viaja con 2 sobrinos varones adultos. Tienen e...   \n",
       "7872  Viaja con su esposo y su hija menor de 2 años....   \n",
       "\n",
       "     Victim of Crime/Violence  \n",
       "0                     No / No  \n",
       "1                    Si / Yes  \n",
       "2                    Si / Yes  \n",
       "3                     No / No  \n",
       "4                     No / No  \n",
       "...                       ...  \n",
       "7868                 Si / Yes  \n",
       "7869                 Si / Yes  \n",
       "7870                 Si / Yes  \n",
       "7871                 Si / Yes  \n",
       "7872                  No / No  \n",
       "\n",
       "[7873 rows x 14 columns]"
      ]
     },
     "execution_count": 1,
     "metadata": {},
     "output_type": "execute_result"
    }
   ],
   "source": [
    "import pandas as pd\n",
    "from wordcloud import WordCloud, STOPWORDS\n",
    "import matplotlib.pyplot as plt\n",
    "import seaborn as sns\n",
    "from nltk.tokenize import word_tokenize\n",
    "import spacy\n",
    "from ast import literal_eval\n",
    "import folium\n",
    "import re\n",
    "\n",
    "\n",
    "df = pd.read_csv('LAMX Front Desk (Combined) data.csv')\n",
    "df"
   ]
  },
  {
   "cell_type": "code",
   "execution_count": 2,
   "metadata": {},
   "outputs": [
    {
     "data": {
      "text/plain": [
       "Victim of Crime/Violence in Mexico\n",
       "Si / Yes                   5558\n",
       "No / No                    2184\n",
       "No lo sé / I don't know      64\n",
       "Name: count, dtype: int64"
      ]
     },
     "execution_count": 2,
     "metadata": {},
     "output_type": "execute_result"
    }
   ],
   "source": [
    "df[\"Victim of Crime/Violence in Mexico\"].value_counts()"
   ]
  },
  {
   "cell_type": "code",
   "execution_count": 3,
   "metadata": {},
   "outputs": [
    {
     "name": "stdout",
     "output_type": "stream",
     "text": [
      "Percentage of Migrant Parties that have been victims to a Crime/Violence in Mexico: \u001b[1m71.79% \u001b[0m\n"
     ]
    }
   ],
   "source": [
    "replacement_statement = {\"No lo sé / I don't know\" : None,\n",
    "\"No / No\" : False,\n",
    "\"Si / Yes\" : True}\n",
    "df[\"Victim of Crime/Violence in Mexico\"] = df[\"Victim of Crime/Violence in Mexico\"].replace(replacement_statement)\n",
    "non_none_count = df['Victim of Crime/Violence in Mexico'].count()\n",
    "number_of_trues = df['Victim of Crime/Violence in Mexico'].sum()\n",
    "\n",
    "print(f\"Percentage of Migrant Parties that have been victims to a Crime/Violence in Mexico: \\033[1m{(number_of_trues/non_none_count):.2%} \\033[0m\")\n"
   ]
  },
  {
   "cell_type": "code",
   "execution_count": 4,
   "metadata": {},
   "outputs": [
    {
     "data": {
      "image/png": "[encoded data removed]",
      "text/plain": [
       "<Figure size 640x480 with 1 Axes>"
      ]
     },
     "metadata": {},
     "output_type": "display_data"
    }
   ],
   "source": [
    "add_df = df\n",
    "add_df[\"Country of Origin\"] = df[\"Country of Origin\"].replace(\"Brazil\", None)\n",
    "percentage_of_violence = add_df.groupby('Country of Origin')['Victim of Crime/Violence in Mexico'].mean() * 100\n",
    "\n",
    "# Plot the bar graph\n",
    "ax = percentage_of_violence.plot(kind='bar', color='skyblue', edgecolor='black')\n",
    "plt.title('Percentage of Parties Subject to Violence in Mexico by Nationality')\n",
    "plt.xlabel('Nationality')\n",
    "plt.ylabel('Percentage of Parties')\n",
    "plt.xticks(rotation=45)\n",
    "plt.ylim(0, 100)\n",
    "\n",
    "for i, v in enumerate(percentage_of_violence):\n",
    "    if v == 100:\n",
    "        continue\n",
    "    ax.text(i, v + 1, f'{v:.1f}%', ha='center', va='bottom')\n",
    "\n",
    "\n",
    "# Show the plot\n",
    "plt.tight_layout()\n",
    "plt.savefig(\"Violence in Mexico by Nationality.png\")\n",
    "plt.show()\n"
   ]
  },
  {
   "cell_type": "code",
   "execution_count": 5,
   "metadata": {},
   "outputs": [],
   "source": [
    "import os\n",
    "files = [pd.read_csv(os.path.join(os.getcwd(), filename)) for filename in os.listdir(os.getcwd()) if filename.endswith('.csv') and \"(Combined)\" not in filename]\n",
    "\n",
    "df = pd.concat(files, axis=0, ignore_index=True)\n",
    "df = df.drop_duplicates()\n",
    "\n"
   ]
  },
  {
   "cell_type": "code",
   "execution_count": 6,
   "metadata": {},
   "outputs": [
    {
     "data": {
      "text/plain": [
       "Index(['Fecha de Llamada', 'Cual es su nombre?', 'Scheduled', 'Location',\n",
       "       'Fecha de Nacimiento', '¿Cual es tu país de origen?',\n",
       "       '¿Cuántas personas en total están viajando?',\n",
       "       '¿Cuál es el mejor número de teléfono para contactarlo?',\n",
       "       '¿Cuál es el país de origen de esta persona?', 'MPP',\n",
       "       ...\n",
       "       '¿Esta persona y su familia han sido víctimas de algún crimen o violencia en México? copy',\n",
       "       '¿Esta persona se identifica como miembro de la comunidad LGBTQ+?',\n",
       "       'End Script Other', 'Route Call to Linda Corchado',\n",
       "       'Route Call to Linda Corchado Other', 'First Name', 'Last Name',\n",
       "       'Added to sharepoint', 'Zero Tolerance', 'No future registration'],\n",
       "      dtype='object', length=118)"
      ]
     },
     "execution_count": 6,
     "metadata": {},
     "output_type": "execute_result"
    }
   ],
   "source": [
    "df.columns"
   ]
  },
  {
   "cell_type": "code",
   "execution_count": 7,
   "metadata": {},
   "outputs": [
    {
     "data": {
      "text/plain": [
       "Location\n",
       "Ciudad Juarez     5696\n",
       "Otro Lugar          14\n",
       "Puerto Palomas      11\n",
       "Name: count, dtype: int64"
      ]
     },
     "execution_count": 7,
     "metadata": {},
     "output_type": "execute_result"
    }
   ],
   "source": [
    "df['Location'].value_counts()"
   ]
  },
  {
   "cell_type": "code",
   "execution_count": 8,
   "metadata": {},
   "outputs": [
    {
     "data": {
      "text/plain": [
       "MPP\n",
       "No        6913\n",
       "No se       62\n",
       "Si          48\n",
       "Name: count, dtype: int64"
      ]
     },
     "execution_count": 8,
     "metadata": {},
     "output_type": "execute_result"
    }
   ],
   "source": [
    "df['MPP'].value_counts()"
   ]
  },
  {
   "cell_type": "code",
   "execution_count": 9,
   "metadata": {},
   "outputs": [
    {
     "data": {
      "text/plain": [
       "Expulsado bajo T42\n",
       "No       2277\n",
       "Si        273\n",
       "No se      20\n",
       "Name: count, dtype: int64"
      ]
     },
     "execution_count": 9,
     "metadata": {},
     "output_type": "execute_result"
    }
   ],
   "source": [
    "df['Expulsado bajo T42'].value_counts()"
   ]
  },
  {
   "cell_type": "code",
   "execution_count": 10,
   "metadata": {},
   "outputs": [
    {
     "data": {
      "text/plain": [
       "Prior Deportation\n",
       "No       118\n",
       "Si        11\n",
       "No se      6\n",
       "Name: count, dtype: int64"
      ]
     },
     "execution_count": 10,
     "metadata": {},
     "output_type": "execute_result"
    }
   ],
   "source": [
    "df['Prior Deportation'].value_counts()"
   ]
  },
  {
   "cell_type": "code",
   "execution_count": 11,
   "metadata": {},
   "outputs": [
    {
     "data": {
      "text/plain": [
       "Prior Removal\n",
       "No       275\n",
       "Si         8\n",
       "No se      6\n",
       "Name: count, dtype: int64"
      ]
     },
     "execution_count": 11,
     "metadata": {},
     "output_type": "execute_result"
    }
   ],
   "source": [
    "df['Prior Removal'].value_counts()"
   ]
  },
  {
   "cell_type": "code",
   "execution_count": 12,
   "metadata": {},
   "outputs": [
    {
     "data": {
      "text/plain": [
       "Albergue? \n",
       "No    1772\n",
       "Si    1635\n",
       "Name: count, dtype: int64"
      ]
     },
     "execution_count": 12,
     "metadata": {},
     "output_type": "execute_result"
    }
   ],
   "source": [
    "df['Albergue? '].value_counts()"
   ]
  },
  {
   "cell_type": "code",
   "execution_count": 13,
   "metadata": {},
   "outputs": [
    {
     "data": {
      "text/plain": [
       "6683    NaN\n",
       "6923    NaN\n",
       "5872    NaN\n",
       "2878    NaN\n",
       "5959    NaN\n",
       "       ... \n",
       "7676    NaN\n",
       "6090    NaN\n",
       "2731    NaN\n",
       "2993    NaN\n",
       "7349    NaN\n",
       "Name: Nombre de Albergue, Length: 100, dtype: object"
      ]
     },
     "execution_count": 13,
     "metadata": {},
     "output_type": "execute_result"
    }
   ],
   "source": [
    "filtered_df = df[df['Albergue? '] == \"No\"]\n",
    "\n",
    "filtered_df['Nombre de Albergue'].sample(100)"
   ]
  },
  {
   "cell_type": "code",
   "execution_count": 14,
   "metadata": {},
   "outputs": [
    {
     "data": {
      "text/plain": [
       "¿El acto de violencia ocurrió en Ciudad Juarez?\n",
       "Si                       601\n",
       "No                       424\n",
       "I don't know/remember      4\n",
       "Name: count, dtype: int64"
      ]
     },
     "execution_count": 14,
     "metadata": {},
     "output_type": "execute_result"
    }
   ],
   "source": [
    "df['¿El acto de violencia ocurrió en Ciudad Juarez?'].value_counts()\n"
   ]
  },
  {
   "cell_type": "code",
   "execution_count": 15,
   "metadata": {},
   "outputs": [
    {
     "data": {
      "text/plain": [
       "Index(['Fecha de Llamada', 'Cual es su nombre?', 'Scheduled', 'Location',\n",
       "       'Fecha de Nacimiento', '¿Cual es tu país de origen?',\n",
       "       '¿Cuántas personas en total están viajando?',\n",
       "       '¿Cuál es el mejor número de teléfono para contactarlo?', 'MPP',\n",
       "       '¿Tiene algún problema de salud o discapacidad grave?',\n",
       "       'Explique brevemente el problema de salud grave o discapacidad:',\n",
       "       '¿Ha sido víctima de algún crimen o violencia en México?',\n",
       "       'Explique el crimen o violencia en Mexico:', 'En Ciudad Juarez?',\n",
       "       '¿Se identifica como miembro de la comunidad LGBTQ+?', 'Notes',\n",
       "       '¿Para quién busca asistencia legal?', 'In Juarez', '¿Usa WhatsApp?',\n",
       "       '¿Cuándo ocurrió el acto de violencia?',\n",
       "       '¿El acto de violencia ocurrió en Ciudad Juarez?', 'Albergue? ',\n",
       "       'Nombre de Albergue', 'Expulsado bajo T42', 'Intro',\n",
       "       '¿Cuál es el código de país del número de teléfono de Whatsapp?',\n",
       "       'End Script'],\n",
       "      dtype='object')"
      ]
     },
     "execution_count": 15,
     "metadata": {},
     "output_type": "execute_result"
    }
   ],
   "source": [
    "df.dropna(thresh=1000, axis=1).columns"
   ]
  },
  {
   "cell_type": "code",
   "execution_count": 16,
   "metadata": {},
   "outputs": [
    {
     "data": {
      "text/plain": [
       "En Ciudad Juarez?\n",
       "No / No                 1804\n",
       "Si / Yes                1784\n",
       "No se / I don't know      11\n",
       "Name: count, dtype: int64"
      ]
     },
     "execution_count": 16,
     "metadata": {},
     "output_type": "execute_result"
    }
   ],
   "source": [
    "df['En Ciudad Juarez?'].value_counts()"
   ]
  },
  {
   "cell_type": "code",
   "execution_count": 17,
   "metadata": {},
   "outputs": [
    {
     "data": {
      "text/plain": [
       "In Juarez\n",
       "Si / Yes    1820\n",
       "No / No       43\n",
       "Name: count, dtype: int64"
      ]
     },
     "execution_count": 17,
     "metadata": {},
     "output_type": "execute_result"
    }
   ],
   "source": [
    "df['In Juarez'].value_counts()"
   ]
  },
  {
   "cell_type": "code",
   "execution_count": 18,
   "metadata": {},
   "outputs": [
    {
     "data": {
      "text/plain": [
       "0        True\n",
       "1       False\n",
       "2       False\n",
       "3        True\n",
       "4        True\n",
       "        ...  \n",
       "7868    False\n",
       "7869    False\n",
       "7870    False\n",
       "7871    False\n",
       "7872     True\n",
       "Name: En Ciudad Juarez?, Length: 7850, dtype: bool"
      ]
     },
     "execution_count": 18,
     "metadata": {},
     "output_type": "execute_result"
    }
   ],
   "source": [
    "df['En Ciudad Juarez?'].isna()"
   ]
  },
  {
   "cell_type": "code",
   "execution_count": 19,
   "metadata": {},
   "outputs": [
    {
     "data": {
      "text/plain": [
       "5543    En Tapachula, Chiapas le robaron sus pertenenc...\n",
       "6771    Were assaulted and robbed on way to Cd JuarezN...\n",
       "2515    En Cinzalapa de Figueroa, Chiapas ella fue ame...\n",
       "4365             She was kidnapped, and was rapedNo / No \n",
       "2618    Su esposa fue violada por la noche, yendo a la...\n",
       "dtype: object"
      ]
     },
     "execution_count": 19,
     "metadata": {},
     "output_type": "execute_result"
    }
   ],
   "source": [
    "(df['Explique el crimen o violencia en Mexico:'] + df['En Ciudad Juarez?']).dropna().sample(5)"
   ]
  },
  {
   "cell_type": "code",
   "execution_count": 20,
   "metadata": {},
   "outputs": [
    {
     "data": {
      "text/html": [
       "<div>\n",
       "<style scoped>\n",
       "    .dataframe tbody tr th:only-of-type {\n",
       "        vertical-align: middle;\n",
       "    }\n",
       "\n",
       "    .dataframe tbody tr th {\n",
       "        vertical-align: top;\n",
       "    }\n",
       "\n",
       "    .dataframe thead th {\n",
       "        text-align: right;\n",
       "    }\n",
       "</style>\n",
       "<table border=\"1\" class=\"dataframe\">\n",
       "  <thead>\n",
       "    <tr style=\"text-align: right;\">\n",
       "      <th></th>\n",
       "      <th>En Ciudad Juarez?</th>\n",
       "      <th>¿El acto de violencia ocurrió en Ciudad Juarez?</th>\n",
       "    </tr>\n",
       "  </thead>\n",
       "  <tbody>\n",
       "    <tr>\n",
       "      <th>1</th>\n",
       "      <td>No / No</td>\n",
       "      <td>NaN</td>\n",
       "    </tr>\n",
       "    <tr>\n",
       "      <th>2</th>\n",
       "      <td>Si / Yes</td>\n",
       "      <td>NaN</td>\n",
       "    </tr>\n",
       "    <tr>\n",
       "      <th>5</th>\n",
       "      <td>No / No</td>\n",
       "      <td>NaN</td>\n",
       "    </tr>\n",
       "    <tr>\n",
       "      <th>7</th>\n",
       "      <td>No / No</td>\n",
       "      <td>NaN</td>\n",
       "    </tr>\n",
       "    <tr>\n",
       "      <th>8</th>\n",
       "      <td>No / No</td>\n",
       "      <td>NaN</td>\n",
       "    </tr>\n",
       "    <tr>\n",
       "      <th>...</th>\n",
       "      <td>...</td>\n",
       "      <td>...</td>\n",
       "    </tr>\n",
       "    <tr>\n",
       "      <th>7866</th>\n",
       "      <td>Si / Yes</td>\n",
       "      <td>NaN</td>\n",
       "    </tr>\n",
       "    <tr>\n",
       "      <th>7868</th>\n",
       "      <td>No / No</td>\n",
       "      <td>NaN</td>\n",
       "    </tr>\n",
       "    <tr>\n",
       "      <th>7869</th>\n",
       "      <td>Si / Yes</td>\n",
       "      <td>NaN</td>\n",
       "    </tr>\n",
       "    <tr>\n",
       "      <th>7870</th>\n",
       "      <td>No / No</td>\n",
       "      <td>NaN</td>\n",
       "    </tr>\n",
       "    <tr>\n",
       "      <th>7871</th>\n",
       "      <td>Si / Yes</td>\n",
       "      <td>NaN</td>\n",
       "    </tr>\n",
       "  </tbody>\n",
       "</table>\n",
       "<p>4628 rows × 2 columns</p>\n",
       "</div>"
      ],
      "text/plain": [
       "     En Ciudad Juarez? ¿El acto de violencia ocurrió en Ciudad Juarez?\n",
       "1             No / No                                              NaN\n",
       "2             Si / Yes                                             NaN\n",
       "5             No / No                                              NaN\n",
       "7             No / No                                              NaN\n",
       "8             No / No                                              NaN\n",
       "...                ...                                             ...\n",
       "7866          Si / Yes                                             NaN\n",
       "7868          No / No                                              NaN\n",
       "7869          Si / Yes                                             NaN\n",
       "7870          No / No                                              NaN\n",
       "7871          Si / Yes                                             NaN\n",
       "\n",
       "[4628 rows x 2 columns]"
      ]
     },
     "execution_count": 20,
     "metadata": {},
     "output_type": "execute_result"
    }
   ],
   "source": [
    "df_clean = df[['En Ciudad Juarez?','¿El acto de violencia ocurrió en Ciudad Juarez?']]\n",
    "df_clean = df_clean.dropna(how='all')\n",
    "df_clean"
   ]
  },
  {
   "cell_type": "code",
   "execution_count": 34,
   "metadata": {},
   "outputs": [
    {
     "data": {
      "text/html": [
       "<div>\n",
       "<style scoped>\n",
       "    .dataframe tbody tr th:only-of-type {\n",
       "        vertical-align: middle;\n",
       "    }\n",
       "\n",
       "    .dataframe tbody tr th {\n",
       "        vertical-align: top;\n",
       "    }\n",
       "\n",
       "    .dataframe thead th {\n",
       "        text-align: right;\n",
       "    }\n",
       "</style>\n",
       "<table border=\"1\" class=\"dataframe\">\n",
       "  <thead>\n",
       "    <tr style=\"text-align: right;\">\n",
       "      <th></th>\n",
       "      <th>En Ciudad Juarez?</th>\n",
       "      <th>¿El acto de violencia ocurrió en Ciudad Juarez?</th>\n",
       "      <th>Did You Face Violence in Juarez?</th>\n",
       "    </tr>\n",
       "  </thead>\n",
       "  <tbody>\n",
       "    <tr>\n",
       "      <th>1433</th>\n",
       "      <td>NaN</td>\n",
       "      <td>Si</td>\n",
       "      <td>Yes</td>\n",
       "    </tr>\n",
       "    <tr>\n",
       "      <th>3273</th>\n",
       "      <td>Si / Yes</td>\n",
       "      <td>NaN</td>\n",
       "      <td>Yes</td>\n",
       "    </tr>\n",
       "    <tr>\n",
       "      <th>2515</th>\n",
       "      <td>Si / Yes</td>\n",
       "      <td>NaN</td>\n",
       "      <td>Yes</td>\n",
       "    </tr>\n",
       "    <tr>\n",
       "      <th>1405</th>\n",
       "      <td>NaN</td>\n",
       "      <td>Si</td>\n",
       "      <td>Yes</td>\n",
       "    </tr>\n",
       "    <tr>\n",
       "      <th>999</th>\n",
       "      <td>Si / Yes</td>\n",
       "      <td>NaN</td>\n",
       "      <td>Yes</td>\n",
       "    </tr>\n",
       "    <tr>\n",
       "      <th>5989</th>\n",
       "      <td>Si / Yes</td>\n",
       "      <td>NaN</td>\n",
       "      <td>Yes</td>\n",
       "    </tr>\n",
       "    <tr>\n",
       "      <th>6616</th>\n",
       "      <td>Si / Yes</td>\n",
       "      <td>NaN</td>\n",
       "      <td>Yes</td>\n",
       "    </tr>\n",
       "    <tr>\n",
       "      <th>43</th>\n",
       "      <td>Si / Yes</td>\n",
       "      <td>NaN</td>\n",
       "      <td>Yes</td>\n",
       "    </tr>\n",
       "    <tr>\n",
       "      <th>2380</th>\n",
       "      <td>Si / Yes</td>\n",
       "      <td>NaN</td>\n",
       "      <td>Yes</td>\n",
       "    </tr>\n",
       "    <tr>\n",
       "      <th>6720</th>\n",
       "      <td>Si / Yes</td>\n",
       "      <td>NaN</td>\n",
       "      <td>Yes</td>\n",
       "    </tr>\n",
       "  </tbody>\n",
       "</table>\n",
       "</div>"
      ],
      "text/plain": [
       "     En Ciudad Juarez? ¿El acto de violencia ocurrió en Ciudad Juarez?  \\\n",
       "1433               NaN                                              Si   \n",
       "3273          Si / Yes                                             NaN   \n",
       "2515          Si / Yes                                             NaN   \n",
       "1405               NaN                                              Si   \n",
       "999           Si / Yes                                             NaN   \n",
       "5989          Si / Yes                                             NaN   \n",
       "6616          Si / Yes                                             NaN   \n",
       "43            Si / Yes                                             NaN   \n",
       "2380          Si / Yes                                             NaN   \n",
       "6720          Si / Yes                                             NaN   \n",
       "\n",
       "     Did You Face Violence in Juarez?  \n",
       "1433                              Yes  \n",
       "3273                              Yes  \n",
       "2515                              Yes  \n",
       "1405                              Yes  \n",
       "999                               Yes  \n",
       "5989                              Yes  \n",
       "6616                              Yes  \n",
       "43                                Yes  \n",
       "2380                              Yes  \n",
       "6720                              Yes  "
      ]
     },
     "execution_count": 34,
     "metadata": {},
     "output_type": "execute_result"
    }
   ],
   "source": [
    "def simplify_violence(row):\n",
    "    answer1,answer2 = row[\"En Ciudad Juarez?\"], row[\"¿El acto de violencia ocurrió en Ciudad Juarez?\"] \n",
    "    if answer1 == \"Si / Yes\" or answer2 == 'Si':\n",
    "        return \"Yes\"\n",
    "    if answer1 == \"No se / I don't know\" or answer2 == \"I don't know/remember\":\n",
    "        return None\n",
    "    else:\n",
    "        return \"No\"\n",
    "\n",
    "\n",
    "df_clean['Did You Face Violence in Juarez?'] = df_clean.apply(simplify_violence, axis=1)\n",
    "df_clean[df_clean['¿El acto de violencia ocurrió en Ciudad Juarez?'] == \"Si\"].sample(10)\n",
    "df_clean[df_clean['Did You Face Violence in Juarez?'] == 'Yes'].sample(10)"
   ]
  },
  {
   "cell_type": "code",
   "execution_count": 35,
   "metadata": {},
   "outputs": [
    {
     "data": {
      "text/plain": [
       "Did You Face Violence in Juarez?\n",
       "Yes    2385\n",
       "No     2228\n",
       "Name: count, dtype: int64"
      ]
     },
     "execution_count": 35,
     "metadata": {},
     "output_type": "execute_result"
    }
   ],
   "source": [
    "df_clean['Did You Face Violence in Juarez?'].value_counts()"
   ]
  },
  {
   "cell_type": "code",
   "execution_count": 53,
   "metadata": {},
   "outputs": [
    {
     "data": {
      "image/png": "[encoded data removed]",
      "text/plain": [
       "<Figure size 1000x1200 with 1 Axes>"
      ]
     },
     "metadata": {},
     "output_type": "display_data"
    }
   ],
   "source": [
    "counts = df_clean['Did You Face Violence in Juarez?'].value_counts()\n",
    "# Create a pie chart using matplotlib.pyplot\n",
    "plt.figure(figsize=(10, 12))\n",
    "\n",
    "\n",
    "def autopct_format(values):\n",
    "        def my_format(pct):\n",
    "            total = sum(values)\n",
    "            val = int(round(pct*total/100.0))\n",
    "            return '{:.1f}%\\n({v:d})'.format(pct, v=val)\n",
    "        return my_format\n",
    "plt.pie(counts, labels=counts.index, autopct=autopct_format(counts), startangle=90, colors=plt.cm.Set1.colors)\n",
    "\n",
    "# Customize the plot using Seaborn style\n",
    "sns.set(style=\"whitegrid\")\n",
    "plt.title('Did You Face Violence in Juarez?')\n",
    "\n",
    "plt.savefig(\"Did You Face Violence in Juarez?.png\", bbox_inches='tight')\n",
    "\n",
    "\n",
    "# Show the plot\n",
    "plt.show()"
   ]
  },
  {
   "cell_type": "code",
   "execution_count": null,
   "metadata": {},
   "outputs": [],
   "source": []
  },
  {
   "cell_type": "code",
   "execution_count": null,
   "metadata": {},
   "outputs": [],
   "source": []
  }
 ],
 "metadata": {
  "kernelspec": {
   "display_name": "Python 3 (ipykernel)",
   "language": "python",
   "name": "python3"
  },
  "language_info": {
   "codemirror_mode": {
    "name": "ipython",
    "version": 3
   },
   "file_extension": ".py",
   "mimetype": "text/x-python",
   "name": "python",
   "nbconvert_exporter": "python",
   "pygments_lexer": "ipython3",
   "version": "3.10.12"
  }
 },
 "nbformat": 4,
 "nbformat_minor": 4
}
